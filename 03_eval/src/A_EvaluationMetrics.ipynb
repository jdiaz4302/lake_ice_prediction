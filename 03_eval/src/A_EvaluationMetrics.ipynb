{
 "cells": [
  {
   "cell_type": "code",
   "execution_count": 1,
   "id": "e058233d",
   "metadata": {},
   "outputs": [],
   "source": [
    "import numpy as np\n",
    "import matplotlib.pyplot as plt"
   ]
  },
  {
   "cell_type": "markdown",
   "id": "9bef9b66",
   "metadata": {},
   "source": [
    "# Configuration"
   ]
  },
  {
   "cell_type": "markdown",
   "id": "10d6355f",
   "metadata": {},
   "source": [
    "### Inputs"
   ]
  },
  {
   "cell_type": "code",
   "execution_count": 2,
   "id": "d26b7a61",
   "metadata": {},
   "outputs": [],
   "source": [
    "process_out_dir = '../../01_process/out/'\n",
    "train_out_dir = '../../02_train/out/'\n",
    "\n",
    "# data, primarily for the ice flags\n",
    "train_data_fpath = process_out_dir + 'train_data.npz'\n",
    "valid_data_fpath = process_out_dir + 'valid_data.npz'\n",
    "\n",
    "train_predictions_fpath = train_out_dir + 'basic_lstm_train_preds.npy'\n",
    "valid_predictions_fpath = train_out_dir + 'basic_lstm_valid_preds.npy'"
   ]
  },
  {
   "cell_type": "markdown",
   "id": "c2620f15",
   "metadata": {},
   "source": [
    "### Values"
   ]
  },
  {
   "cell_type": "code",
   "execution_count": 3,
   "id": "5e7023b3",
   "metadata": {},
   "outputs": [],
   "source": [
    "# when deriving the max ice on date, one detail is that\n",
    "# we must omit the late ice on dates that occur during a\n",
    "# (predicted) rethaw. This value is a temporal index\n",
    "# representing the maximum day after July 1 that can\n",
    "# be a considered a max ice on date.\n",
    "# A value of 215 equates to February 1\n",
    "ice_on_cutoff = 215\n",
    "\n",
    "n_days_hist_cutoff = 75"
   ]
  },
  {
   "cell_type": "markdown",
   "id": "dc93031e",
   "metadata": {},
   "source": [
    "### Outputs"
   ]
  },
  {
   "cell_type": "code",
   "execution_count": 4,
   "id": "218d3488",
   "metadata": {},
   "outputs": [],
   "source": [
    "eval_metrics_fpath = '../out/eval_metrics.npz'"
   ]
  },
  {
   "cell_type": "markdown",
   "id": "1eebac0c",
   "metadata": {},
   "source": [
    "# Import data"
   ]
  },
  {
   "cell_type": "code",
   "execution_count": 5,
   "id": "086ff881",
   "metadata": {},
   "outputs": [],
   "source": [
    "# Import both development partitions\n",
    "train_data = np.load(train_data_fpath, allow_pickle = True)\n",
    "valid_data = np.load(valid_data_fpath, allow_pickle = True)\n",
    "\n",
    "# Extract everything from training partition\n",
    "train_x = train_data['x']\n",
    "train_y = train_data['y']\n",
    "train_dates = train_data['dates']\n",
    "train_DOW = train_data['DOW']\n",
    "train_variables = train_data['features']\n",
    "\n",
    "# Extract everything from validation partition\n",
    "valid_x = valid_data['x']\n",
    "valid_y = valid_data['y']\n",
    "valid_dates = valid_data['dates']\n",
    "valid_DOW = valid_data['DOW']\n",
    "valid_variables = valid_data['features']"
   ]
  },
  {
   "cell_type": "code",
   "execution_count": 6,
   "id": "27ca359d",
   "metadata": {},
   "outputs": [],
   "source": [
    "train_predictions = np.load(train_predictions_fpath)\n",
    "valid_predictions = np.load(valid_predictions_fpath)"
   ]
  },
  {
   "cell_type": "code",
   "execution_count": 7,
   "id": "477dc339",
   "metadata": {},
   "outputs": [],
   "source": [
    "# Programmatically identify process-based ice flag data\n",
    "ice_var_idx = int(np.argwhere(train_variables == 'ice'))\n",
    "assert valid_variables[ice_var_idx] == 'ice'"
   ]
  },
  {
   "cell_type": "markdown",
   "id": "42231fd2",
   "metadata": {},
   "source": [
    "# Convert predicted probabilities into predicted class (ice or not)"
   ]
  },
  {
   "cell_type": "code",
   "execution_count": 8,
   "id": "e42f8526",
   "metadata": {},
   "outputs": [
    {
     "data": {
      "text/plain": [
       "(0.0017262313, 0.99541134)"
      ]
     },
     "execution_count": 8,
     "metadata": {},
     "output_type": "execute_result"
    }
   ],
   "source": [
    "# View the validation set's min and max probability first\n",
    "valid_predictions.min(), valid_predictions.max()"
   ]
  },
  {
   "cell_type": "code",
   "execution_count": 9,
   "id": "a7af730d",
   "metadata": {},
   "outputs": [],
   "source": [
    "# Round probabilities\n",
    "train_predictions_class = np.round(train_predictions)\n",
    "valid_predictions_class = np.round(valid_predictions)"
   ]
  },
  {
   "cell_type": "markdown",
   "id": "ffcc9a08",
   "metadata": {},
   "source": [
    "# Overall accuracy\n",
    "\n",
    "Including quick check on overfitting"
   ]
  },
  {
   "cell_type": "code",
   "execution_count": 10,
   "id": "82edd766",
   "metadata": {},
   "outputs": [],
   "source": [
    "def calc_accuracy(pred_probs, obs):\n",
    "    # Here, the 0-index is just getting rid of the feature\n",
    "    # dimension of the (originally) pytorch prediction object\n",
    "    flat_preds = pred_probs[:, :, 0].flatten()\n",
    "    flat_obs = obs.flatten()\n",
    "    \n",
    "    return np.sum(flat_preds == flat_obs) / flat_obs.shape[0]\n",
    "    "
   ]
  },
  {
   "cell_type": "code",
   "execution_count": 11,
   "id": "3e422b5a",
   "metadata": {},
   "outputs": [
    {
     "name": "stdout",
     "output_type": "stream",
     "text": [
      "Model accuracy on training set: 0.97743823010337\n",
      "\n",
      "Model accuracy on validation set: 0.9762829687180535\n"
     ]
    }
   ],
   "source": [
    "print('Model accuracy on training set:', calc_accuracy(train_predictions_class, train_y))\n",
    "print('\\nModel accuracy on validation set:', calc_accuracy(valid_predictions_class, valid_y))"
   ]
  },
  {
   "cell_type": "markdown",
   "id": "4859155f",
   "metadata": {},
   "source": [
    "### Compare to process-based ice flag input"
   ]
  },
  {
   "cell_type": "code",
   "execution_count": 12,
   "id": "d2c33ae5",
   "metadata": {},
   "outputs": [],
   "source": [
    "assert train_variables[ice_var_idx] == valid_variables[ice_var_idx] == 'ice'\n",
    "\n",
    "def calc_accuracy_iceflags(inputs, obs):\n",
    "    \n",
    "    flat_ice_flags = inputs[:, :, ice_var_idx].flatten()\n",
    "    flat_obs = obs.flatten()\n",
    "    \n",
    "    return np.sum(flat_ice_flags == flat_obs) / flat_obs.shape[0]"
   ]
  },
  {
   "cell_type": "code",
   "execution_count": 13,
   "id": "fe3635f5",
   "metadata": {},
   "outputs": [
    {
     "name": "stdout",
     "output_type": "stream",
     "text": [
      "Ice flag accuracy on training set: 0.9544793680141188\n",
      "\n",
      "Ice flag accuracy on validation set: 0.9529433968199047\n"
     ]
    }
   ],
   "source": [
    "print('Ice flag accuracy on training set:', calc_accuracy_iceflags(train_x, train_y))\n",
    "print('\\nIce flag accuracy on validation set:', calc_accuracy_iceflags(valid_x, valid_y))"
   ]
  },
  {
   "cell_type": "markdown",
   "id": "60f634c2",
   "metadata": {},
   "source": [
    "*NOTE* Ensure that training set and validation performance are very similar"
   ]
  },
  {
   "cell_type": "markdown",
   "id": "f1c95890",
   "metadata": {},
   "source": [
    "# Error of predicted ice on/off dates"
   ]
  },
  {
   "cell_type": "markdown",
   "id": "6b5443b9",
   "metadata": {},
   "source": [
    "### Derive predicted max ice on and max ice off dates"
   ]
  },
  {
   "cell_type": "code",
   "execution_count": 14,
   "id": "fc327599",
   "metadata": {},
   "outputs": [],
   "source": [
    "ice_on = []\n",
    "ice_off = []\n",
    "pred_ice_on = []\n",
    "pred_ice_off = []\n",
    "flag_ice_on = []\n",
    "flag_ice_off = []\n",
    "\n",
    "for i in range(valid_y.shape[0]):\n",
    "    # Result in +1 when ice emerges and -1 when ice disappears. 0 otherwise.\n",
    "    valid_diff_y_i = np.diff(valid_y[i, :])\n",
    "    valid_diff_y_hat_i = np.diff(valid_predictions_class[i, :, 0])\n",
    "    valid_diff_flag_i = np.diff(valid_x[i, :, ice_var_idx])\n",
    "    \n",
    "    # Indexing by -1 finds the latest/\"max\" occurrence\n",
    "    # for ice_on, we need to avoid late season refreeze ice on dates\n",
    "    valid_ice_on_index = np.argwhere(valid_diff_y_i == 1)[np.argwhere(valid_diff_y_i == 1) < ice_on_cutoff][-1].item()\n",
    "    valid_ice_off_index = np.argwhere(valid_diff_y_i == -1)[-1].item()\n",
    "    valid_pred_ice_on_index = np.argwhere(valid_diff_y_hat_i == 1)[np.argwhere(valid_diff_y_hat_i == 1) < ice_on_cutoff][-1].item()\n",
    "    valid_pred_ice_off_index = np.argwhere(valid_diff_y_hat_i == -1)[-1].item()\n",
    "    valid_flag_ice_on_index = np.argwhere(valid_diff_flag_i == 1)[np.argwhere(valid_diff_flag_i == 1) < ice_on_cutoff][-1].item()\n",
    "    valid_flag_ice_off_index = np.argwhere(valid_diff_flag_i == -1)[-1].item()\n",
    "    \n",
    "    # Store found dates\n",
    "    ice_on.append(valid_dates[i, valid_ice_on_index])\n",
    "    ice_off.append(valid_dates[i, valid_ice_off_index])\n",
    "    pred_ice_on.append(valid_dates[i, valid_pred_ice_on_index])\n",
    "    pred_ice_off.append(valid_dates[i, valid_pred_ice_off_index])\n",
    "    flag_ice_on.append(valid_dates[i, valid_flag_ice_on_index])\n",
    "    flag_ice_off.append(valid_dates[i, valid_flag_ice_off_index])"
   ]
  },
  {
   "cell_type": "markdown",
   "id": "bdf188d4",
   "metadata": {},
   "source": [
    "### Define some functions to deal with those dates"
   ]
  },
  {
   "cell_type": "code",
   "execution_count": 15,
   "id": "da55d5f5",
   "metadata": {},
   "outputs": [],
   "source": [
    "def calc_date_errors(iceflag_dates, pred_dates, obs_dates):\n",
    "    # convert obj/str dates into datetimes\n",
    "    formatted_iceflag_dates = np.asarray(iceflag_dates).astype(np.datetime64)\n",
    "    formatted_pred_dates = np.asarray(pred_dates).astype(np.datetime64)\n",
    "    formatted_obs_dates = np.asarray(obs_dates).astype(np.datetime64)\n",
    "    \n",
    "    # calc simple difference\n",
    "    iceflag_errors = formatted_obs_dates - formatted_iceflag_dates\n",
    "    pred_errors = formatted_obs_dates - formatted_pred_dates\n",
    "    \n",
    "    # convert datetime difference to int (days)\n",
    "    iceflag_errors = iceflag_errors.astype(int)\n",
    "    pred_errors = pred_errors.astype(int)\n",
    "    \n",
    "    return iceflag_errors, pred_errors\n",
    "\n",
    "# simple RMSE calculation\n",
    "def calc_rmse(errors):\n",
    "    return np.sqrt(np.sum(errors**2) / len(errors))\n",
    "\n",
    "def plot_and_print_date_errors(pb_model_errors, new_model_errors):\n",
    "    # Plotting\n",
    "    plt.figure(figsize = (8, 5))\n",
    "    # histogram of process-based errors\n",
    "    plt.hist(pb_model_errors, bins = range(-1*n_days_hist_cutoff, n_days_hist_cutoff),\n",
    "             label = 'Ice flag', zorder = 0)\n",
    "    # histogram of new model errors\n",
    "    plt.hist(new_model_errors, bins = range(-1*n_days_hist_cutoff, n_days_hist_cutoff),\n",
    "             label = 'Prediction', zorder = 1,\n",
    "             histtype = 'step', linewidth = 2)\n",
    "    # 0-line for reference\n",
    "    plt.axvline(0, color = 'black', zorder = 2)\n",
    "    plt.legend()\n",
    "\n",
    "    # Print metrics for PB\n",
    "    print('Average flag error: ', np.mean(pb_model_errors))\n",
    "    print('Flag RMSE: ', calc_rmse(pb_model_errors))\n",
    "    \n",
    "    # Print metrics for new\n",
    "    print('\\nAverage pred error: ', np.mean(new_model_errors))\n",
    "    print('Pred RMSE: ', calc_rmse(new_model_errors))"
   ]
  },
  {
   "cell_type": "markdown",
   "id": "30f2d6fe",
   "metadata": {},
   "source": [
    "### Errors for `max_ice_on`"
   ]
  },
  {
   "cell_type": "code",
   "execution_count": 16,
   "id": "75afb732",
   "metadata": {},
   "outputs": [
    {
     "name": "stdout",
     "output_type": "stream",
     "text": [
      "Average flag error:  8.045924225028703\n",
      "Flag RMSE:  12.459993384108683\n",
      "\n",
      "Average pred error:  -0.4890929965556831\n",
      "Pred RMSE:  7.512102749248695\n"
     ]
    },
    {
     "data": {
      "image/png": "[encoded data removed]",
      "text/plain": [
       "<Figure size 576x360 with 1 Axes>"
      ]
     },
     "metadata": {
      "needs_background": "light"
     },
     "output_type": "display_data"
    }
   ],
   "source": [
    "flag_error_ice_on, pred_error_ice_on = calc_date_errors(flag_ice_on, pred_ice_on, ice_on)\n",
    "\n",
    "plot_and_print_date_errors(flag_error_ice_on, pred_error_ice_on)"
   ]
  },
  {
   "cell_type": "markdown",
   "id": "8c4bf649",
   "metadata": {},
   "source": [
    "### Errors for `max_ice_off`"
   ]
  },
  {
   "cell_type": "code",
   "execution_count": 17,
   "id": "5547443c",
   "metadata": {},
   "outputs": [
    {
     "name": "stdout",
     "output_type": "stream",
     "text": [
      "Average flag error:  5.719862227324914\n",
      "Flag RMSE:  10.106323400479825\n",
      "\n",
      "Average pred error:  -0.4489092996555683\n",
      "Pred RMSE:  5.926937474790869\n"
     ]
    },
    {
     "data": {
      "image/png": "[encoded data removed]",
      "text/plain": [
       "<Figure size 576x360 with 1 Axes>"
      ]
     },
     "metadata": {
      "needs_background": "light"
     },
     "output_type": "display_data"
    }
   ],
   "source": [
    "flag_error_ice_off, pred_error_ice_off = calc_date_errors(flag_ice_off, pred_ice_off, ice_off)\n",
    "\n",
    "plot_and_print_date_errors(flag_error_ice_off, pred_error_ice_off)"
   ]
  },
  {
   "cell_type": "markdown",
   "id": "75eece37",
   "metadata": {},
   "source": [
    "# Error of predicted ice duration"
   ]
  },
  {
   "cell_type": "code",
   "execution_count": 18,
   "id": "4e1abb7e",
   "metadata": {},
   "outputs": [],
   "source": [
    "# Simply take number of days between ice on and ice off for ice duration\n",
    "def calc_ice_duration(off, on):\n",
    "    dur = np.asarray(off).astype(np.datetime64) - np.asarray(on).astype(np.datetime64)\n",
    "    return dur.astype(int)"
   ]
  },
  {
   "cell_type": "code",
   "execution_count": 19,
   "id": "0a3630d3",
   "metadata": {},
   "outputs": [
    {
     "name": "stdout",
     "output_type": "stream",
     "text": [
      "Ice flag duration RMSE: 13.309354634268027\n",
      "\n",
      "Model duration RMSE: 9.46775299254786\n"
     ]
    }
   ],
   "source": [
    "# Convert dates to days between on and off\n",
    "obs_dur = calc_ice_duration(ice_off, ice_on)\n",
    "pred_dur = calc_ice_duration(pred_ice_off, pred_ice_on)\n",
    "flag_dur = calc_ice_duration(flag_ice_off, flag_ice_on)\n",
    "\n",
    "# Compare model outputs to observations\n",
    "pred_error_dur = obs_dur - pred_dur\n",
    "flag_error_dur = obs_dur - flag_dur\n",
    "\n",
    "# Get the associated RMSE\n",
    "print(\"Ice flag duration RMSE:\", calc_rmse(flag_error_dur))\n",
    "print(\"\\nModel duration RMSE:\", calc_rmse(pred_error_dur))"
   ]
  },
  {
   "cell_type": "markdown",
   "id": "7b01c45b",
   "metadata": {},
   "source": [
    "# Save these calculcated errors"
   ]
  },
  {
   "cell_type": "code",
   "execution_count": 20,
   "id": "a4f7a28e",
   "metadata": {},
   "outputs": [],
   "source": [
    "# Batch all these calculated errors together\n",
    "evals = {'flag_error_ice_on':flag_error_ice_on,\n",
    "         'flag_error_ice_off':flag_error_ice_off,\n",
    "         'flag_error_dur':flag_error_dur,\n",
    "         'pred_error_ice_on':pred_error_ice_on,\n",
    "         'pred_error_ice_off':pred_error_ice_off,\n",
    "         'pred_error_dur':pred_error_dur}"
   ]
  },
  {
   "cell_type": "code",
   "execution_count": 21,
   "id": "df85870a",
   "metadata": {},
   "outputs": [],
   "source": [
    "np.savez_compressed(eval_metrics_fpath, **evals)"
   ]
  },
  {
   "cell_type": "code",
   "execution_count": null,
   "id": "8ffe26bb",
   "metadata": {},
   "outputs": [],
   "source": []
  }
 ],
 "metadata": {
  "kernelspec": {
   "display_name": "Python 3 (ipykernel)",
   "language": "python",
   "name": "python3"
  },
  "language_info": {
   "codemirror_mode": {
    "name": "ipython",
    "version": 3
   },
   "file_extension": ".py",
   "mimetype": "text/x-python",
   "name": "python",
   "nbconvert_exporter": "python",
   "pygments_lexer": "ipython3",
   "version": "3.8.12"
  }
 },
 "nbformat": 4,
 "nbformat_minor": 5
}
