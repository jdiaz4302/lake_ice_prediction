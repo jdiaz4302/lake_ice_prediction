{
 "cells": [
  {
   "cell_type": "code",
   "execution_count": 1,
   "id": "768d304e",
   "metadata": {},
   "outputs": [],
   "source": [
    "import numpy as np\n",
    "import datetime\n",
    "import matplotlib.pyplot as plt\n",
    "import pandas as pd\n",
    "from pylab import cm\n",
    "\n",
    "np.random.seed(123)"
   ]
  },
  {
   "cell_type": "markdown",
   "id": "623fade9",
   "metadata": {},
   "source": [
    "# Values that you may want to change"
   ]
  },
  {
   "cell_type": "code",
   "execution_count": 2,
   "id": "7a18f2ba",
   "metadata": {},
   "outputs": [],
   "source": [
    "out_dir = \"../out/\"\n",
    "model_ready_data_fpath = out_dir + 'model_ready_sequences.npz'\n",
    "train_data_fpath = out_dir + 'train_data.npz'\n",
    "valid_data_fpath = out_dir + 'valid_data.npz'\n",
    "test_data_fpath = out_dir + 'test_data.npz'\n",
    "\n",
    "mapping_reference = \"../in/MN_ice/raw_data_from_DNR/lake_ice_id_spreadsheet.xlsx\"\n",
    "\n",
    "date_format = '%Y-%m-%d'"
   ]
  },
  {
   "cell_type": "markdown",
   "id": "2b206a8a",
   "metadata": {},
   "source": [
    "# Import"
   ]
  },
  {
   "cell_type": "code",
   "execution_count": 3,
   "id": "831f0b28",
   "metadata": {},
   "outputs": [],
   "source": [
    "model_ready_data = np.load(model_ready_data_fpath, allow_pickle = True)\n",
    "\n",
    "lat_lon_ref_df = pd.read_excel(mapping_reference,\n",
    "                               usecols=['dow num', 'lat', 'long'])"
   ]
  },
  {
   "cell_type": "code",
   "execution_count": 4,
   "id": "1bd8c16b",
   "metadata": {},
   "outputs": [
    {
     "name": "stdout",
     "output_type": "stream",
     "text": [
      "Number of sequences before this work...  5104\n"
     ]
    }
   ],
   "source": [
    "x = model_ready_data['x']\n",
    "y = model_ready_data['y']\n",
    "dates =  model_ready_data['dates']\n",
    "DOW =  model_ready_data['DOW']\n",
    "variables =  model_ready_data['vars']\n",
    "\n",
    "print('Number of sequences before this work... ', str(x.shape[0]))"
   ]
  },
  {
   "cell_type": "markdown",
   "id": "c7bd15f4",
   "metadata": {},
   "source": [
    "# Demonstrate existing data missingness"
   ]
  },
  {
   "cell_type": "code",
   "execution_count": 5,
   "id": "b3aa8624",
   "metadata": {},
   "outputs": [
    {
     "name": "stdout",
     "output_type": "stream",
     "text": [
      "0 ShortWave \t\t 0.89\n",
      "1 LongWave \t\t 0.89\n",
      "2 AirTemp \t\t 0.89\n",
      "3 RelHum \t\t 0.89\n",
      "4 WindSpeed \t\t 0.89\n",
      "5 Rain \t\t 0.89\n",
      "6 Snow \t\t 0.89\n",
      "7 kd \t\t 0.85\n",
      "8 ice \t\t 0.85\n",
      "9 rad_0 \t\t 0.85\n",
      "10 temp_0_x \t\t 0.85\n",
      "11 temp_0_y \t\t 0.68\n",
      "12 temp_MaxDepth_x \t\t 0.85\n",
      "13 temp_MaxDepth_y \t\t 0.68\n",
      "14 MaxDepth \t\t 0.89\n"
     ]
    }
   ],
   "source": [
    "# We dont really need the 366th day after July 1 on leap years\n",
    "#   because it will almost surely be ice free.\n",
    "# Additionally, the 366th day is nan for non leap years.\n",
    "temporary_x = x[:, :365, :].copy()\n",
    "\n",
    "# Determine how many sequences have a NaN present for each variable\n",
    "for i in range(len(variables)):\n",
    "    nan_free_seq_count = 0\n",
    "    for j in range(temporary_x.shape[0]):\n",
    "        if np.sum(np.isnan(temporary_x[j, :, i])) == 0:\n",
    "            nan_free_seq_count += 1\n",
    "    print(i, variables[i], '\\t\\t', np.round(nan_free_seq_count / temporary_x.shape[0], 2))"
   ]
  },
  {
   "cell_type": "markdown",
   "id": "86208a74",
   "metadata": {},
   "source": [
    "**Working decision:** dont use PGDL estimates for water temperature because they are missing too often."
   ]
  },
  {
   "cell_type": "markdown",
   "id": "19215e8a",
   "metadata": {},
   "source": [
    "# Omit variables or rows that provide missingness"
   ]
  },
  {
   "cell_type": "markdown",
   "id": "43b95713",
   "metadata": {},
   "source": [
    "### Omit variables"
   ]
  },
  {
   "cell_type": "code",
   "execution_count": 6,
   "id": "c59edb90",
   "metadata": {},
   "outputs": [
    {
     "name": "stdout",
     "output_type": "stream",
     "text": [
      "['ShortWave', 'LongWave', 'AirTemp', 'RelHum', 'WindSpeed', 'Rain', 'Snow', 'kd', 'ice', 'rad_0', 'temp_0_x', 'temp_MaxDepth_x', 'MaxDepth']\n"
     ]
    }
   ],
   "source": [
    "non_omitted_variables = []\n",
    "for i in np.concatenate([variables[:11], variables[[-3]], variables[[-1]]]):\n",
    "    non_omitted_variables.append(i)\n",
    "print(non_omitted_variables)\n",
    "    \n",
    "improved_x = np.concatenate([temporary_x[:, :, :11],\n",
    "                             temporary_x[:, :, [-3]],\n",
    "                             temporary_x[:, :, [-1]]],\n",
    "                            axis = 2)\n",
    "del(temporary_x)"
   ]
  },
  {
   "cell_type": "markdown",
   "id": "4a3b7a86",
   "metadata": {},
   "source": [
    "### Omit rows"
   ]
  },
  {
   "cell_type": "code",
   "execution_count": 7,
   "id": "626cce6f",
   "metadata": {},
   "outputs": [
    {
     "data": {
      "text/plain": [
       "0.14792319749216298"
      ]
     },
     "execution_count": 7,
     "metadata": {},
     "output_type": "execute_result"
    }
   ],
   "source": [
    "# Determine where data is missing and what percent are missing\n",
    "nan_free_seq_count = 0\n",
    "nan_free_indices = []\n",
    "for j in range(improved_x.shape[0]):\n",
    "    if np.sum(np.isnan(improved_x[j])) == 0:\n",
    "        nan_free_seq_count += 1\n",
    "        nan_free_indices.append(j)\n",
    "nan_free_indices = np.asarray(nan_free_indices)\n",
    "\n",
    "perc_missing = 1  - (nan_free_seq_count / improved_x.shape[0])\n",
    "perc_missing"
   ]
  },
  {
   "cell_type": "code",
   "execution_count": 8,
   "id": "1ad757c2",
   "metadata": {},
   "outputs": [],
   "source": [
    "improved_x = improved_x[nan_free_indices]\n",
    "# Also get rid of that extra day on leap years here\n",
    "y = y[nan_free_indices, :365]\n",
    "dates = dates[nan_free_indices, :365]\n",
    "DOW = DOW[nan_free_indices].astype(int)\n",
    "variables = non_omitted_variables"
   ]
  },
  {
   "cell_type": "code",
   "execution_count": 9,
   "id": "9151021d",
   "metadata": {},
   "outputs": [
    {
     "name": "stdout",
     "output_type": "stream",
     "text": [
      "Number of sequences remaining...  4349\n"
     ]
    }
   ],
   "source": [
    "print('Number of sequences remaining... ', str(improved_x.shape[0]))"
   ]
  },
  {
   "cell_type": "markdown",
   "id": "af559edf",
   "metadata": {},
   "source": [
    "# Identify partitions by lake identifier (DOW)\n",
    "\n",
    "Train, validation, and test sets will be mutually exclusive sets of different lakes. Data from these lake sets should approximately span the entire temporal range"
   ]
  },
  {
   "cell_type": "code",
   "execution_count": 10,
   "id": "cea24737",
   "metadata": {},
   "outputs": [],
   "source": [
    "df = pd.DataFrame({\"DOW\":DOW.astype(int),\n",
    "                   \"dates\":dates[:, 0].astype(np.datetime64)})\n",
    "df = df.dropna()\n",
    "df['dates'] = df['dates'].astype(np.datetime64)"
   ]
  },
  {
   "cell_type": "markdown",
   "id": "c0e9f112",
   "metadata": {},
   "source": [
    "### Figure out what % of the data each lake represents"
   ]
  },
  {
   "cell_type": "code",
   "execution_count": 11,
   "id": "8ba75615",
   "metadata": {},
   "outputs": [
    {
     "data": {
      "text/html": [
       "<div>\n",
       "<style scoped>\n",
       "    .dataframe tbody tr th:only-of-type {\n",
       "        vertical-align: middle;\n",
       "    }\n",
       "\n",
       "    .dataframe tbody tr th {\n",
       "        vertical-align: top;\n",
       "    }\n",
       "\n",
       "    .dataframe thead th {\n",
       "        text-align: right;\n",
       "    }\n",
       "</style>\n",
       "<table border=\"1\" class=\"dataframe\">\n",
       "  <thead>\n",
       "    <tr style=\"text-align: right;\">\n",
       "      <th></th>\n",
       "      <th>DOW</th>\n",
       "      <th>prop</th>\n",
       "    </tr>\n",
       "  </thead>\n",
       "  <tbody>\n",
       "    <tr>\n",
       "      <th>0</th>\n",
       "      <td>10005900</td>\n",
       "      <td>0.008738</td>\n",
       "    </tr>\n",
       "    <tr>\n",
       "      <th>1</th>\n",
       "      <td>34007900</td>\n",
       "      <td>0.008738</td>\n",
       "    </tr>\n",
       "    <tr>\n",
       "      <th>2</th>\n",
       "      <td>4013000</td>\n",
       "      <td>0.008738</td>\n",
       "    </tr>\n",
       "    <tr>\n",
       "      <th>3</th>\n",
       "      <td>29025000</td>\n",
       "      <td>0.008508</td>\n",
       "    </tr>\n",
       "    <tr>\n",
       "      <th>4</th>\n",
       "      <td>27013300</td>\n",
       "      <td>0.008508</td>\n",
       "    </tr>\n",
       "    <tr>\n",
       "      <th>...</th>\n",
       "      <td>...</td>\n",
       "      <td>...</td>\n",
       "    </tr>\n",
       "    <tr>\n",
       "      <th>620</th>\n",
       "      <td>40006300</td>\n",
       "      <td>0.000230</td>\n",
       "    </tr>\n",
       "    <tr>\n",
       "      <th>621</th>\n",
       "      <td>4013001</td>\n",
       "      <td>0.000230</td>\n",
       "    </tr>\n",
       "    <tr>\n",
       "      <th>622</th>\n",
       "      <td>4021700</td>\n",
       "      <td>0.000230</td>\n",
       "    </tr>\n",
       "    <tr>\n",
       "      <th>623</th>\n",
       "      <td>47004901</td>\n",
       "      <td>0.000230</td>\n",
       "    </tr>\n",
       "    <tr>\n",
       "      <th>624</th>\n",
       "      <td>9006200</td>\n",
       "      <td>0.000230</td>\n",
       "    </tr>\n",
       "  </tbody>\n",
       "</table>\n",
       "<p>625 rows × 2 columns</p>\n",
       "</div>"
      ],
      "text/plain": [
       "          DOW      prop\n",
       "0    10005900  0.008738\n",
       "1    34007900  0.008738\n",
       "2     4013000  0.008738\n",
       "3    29025000  0.008508\n",
       "4    27013300  0.008508\n",
       "..        ...       ...\n",
       "620  40006300  0.000230\n",
       "621   4013001  0.000230\n",
       "622   4021700  0.000230\n",
       "623  47004901  0.000230\n",
       "624   9006200  0.000230\n",
       "\n",
       "[625 rows x 2 columns]"
      ]
     },
     "execution_count": 11,
     "metadata": {},
     "output_type": "execute_result"
    }
   ],
   "source": [
    "DOW_value_counts = df['DOW'].value_counts()\n",
    "DOW_proportions = DOW_value_counts / len(df)\n",
    "DOW_proportions = pd.DataFrame(DOW_proportions)\n",
    "DOW_proportions = DOW_proportions.reset_index()\n",
    "DOW_proportions = DOW_proportions.rename(columns = {'DOW':'prop',\n",
    "                                                    'index':'DOW'})\n",
    "DOW_proportions"
   ]
  },
  {
   "cell_type": "markdown",
   "id": "b7b65e0b",
   "metadata": {},
   "source": [
    "### Randomly sample lakes until we get 20% of the data"
   ]
  },
  {
   "cell_type": "code",
   "execution_count": 12,
   "id": "e97823ff",
   "metadata": {},
   "outputs": [],
   "source": [
    "def partition_by_lakes(dataset, possible_lakes, desired_prop):\n",
    "    \n",
    "    # arguments\n",
    "    #     `dataset` is the dataset we're partitioning.\n",
    "    #        I assume it has a \"DOW\" column\n",
    "    #     `possible_lakes` are the DOWs that we sample.\n",
    "    #        As the sampling continues, we remove values.\n",
    "    #     `desired_prop` is the proportion of the data set\n",
    "    #        that we want this partition to cover.\n",
    "    # returns\n",
    "    #     `partition_lakes` are the random DOWs representing\n",
    "    #        the desired proportion of the data set\n",
    "    #     `possible_lakes` are the reduced DOWs that we can\n",
    "    #        further sample for additional partitions.\n",
    "    \n",
    "    partition_lakes = []\n",
    "    cumulative_sum = 0 \n",
    "\n",
    "    while cumulative_sum < 0.2:\n",
    "        # add a random new lake to the partition\n",
    "        rand_DOW = np.random.choice(possible_DOWs)\n",
    "        partition_lakes.append(rand_DOW)\n",
    "\n",
    "        # subset the data set to those sampled partitions\n",
    "        # and determine what % we are at\n",
    "        cumulative_subset = dataset[dataset.DOW.isin(partition_lakes)]\n",
    "        cumulative_sum = np.sum(cumulative_subset['prop'])\n",
    "\n",
    "        # sample without replacement\n",
    "        possible_DOWs.remove(rand_DOW)\n",
    "\n",
    "    # State what literal proportion we achieved and\n",
    "    # how many lakes that represents\n",
    "    print(cumulative_sum, len(partition_lakes))\n",
    "    \n",
    "    return(partition_lakes, possible_lakes)"
   ]
  },
  {
   "cell_type": "code",
   "execution_count": 13,
   "id": "0af58d1f",
   "metadata": {},
   "outputs": [
    {
     "name": "stdout",
     "output_type": "stream",
     "text": [
      "0.20027592550011497 131\n",
      "0.2000459875833526 127\n"
     ]
    }
   ],
   "source": [
    "possible_DOWs = list(DOW_proportions['DOW'].copy())\n",
    "\n",
    "valid_lakes, possible_DOWs = partition_by_lakes(DOW_proportions,\n",
    "                                                possible_DOWs,\n",
    "                                                0.2)\n",
    "test_lakes, possible_DOWs = partition_by_lakes(DOW_proportions,\n",
    "                                               possible_DOWs,\n",
    "                                               0.2)"
   ]
  },
  {
   "cell_type": "code",
   "execution_count": 14,
   "id": "f53f8ff6",
   "metadata": {},
   "outputs": [],
   "source": [
    "DOW_proportions['train'] = DOW_proportions.DOW.isin(possible_DOWs)\n",
    "DOW_proportions['valid'] = DOW_proportions.DOW.isin(valid_lakes)\n",
    "DOW_proportions['test'] = DOW_proportions.DOW.isin(test_lakes)"
   ]
  },
  {
   "cell_type": "markdown",
   "id": "b48c6d1d",
   "metadata": {},
   "source": [
    "# Very basic mapping of the partitions"
   ]
  },
  {
   "cell_type": "code",
   "execution_count": 15,
   "id": "7e8fe369",
   "metadata": {},
   "outputs": [
    {
     "data": {
      "text/html": [
       "<div>\n",
       "<style scoped>\n",
       "    .dataframe tbody tr th:only-of-type {\n",
       "        vertical-align: middle;\n",
       "    }\n",
       "\n",
       "    .dataframe tbody tr th {\n",
       "        vertical-align: top;\n",
       "    }\n",
       "\n",
       "    .dataframe thead th {\n",
       "        text-align: right;\n",
       "    }\n",
       "</style>\n",
       "<table border=\"1\" class=\"dataframe\">\n",
       "  <thead>\n",
       "    <tr style=\"text-align: right;\">\n",
       "      <th></th>\n",
       "      <th>DOW</th>\n",
       "      <th>lat</th>\n",
       "      <th>long</th>\n",
       "      <th>prop</th>\n",
       "      <th>train</th>\n",
       "      <th>valid</th>\n",
       "      <th>test</th>\n",
       "    </tr>\n",
       "  </thead>\n",
       "  <tbody>\n",
       "    <tr>\n",
       "      <th>0</th>\n",
       "      <td>10000600</td>\n",
       "      <td>44.87739</td>\n",
       "      <td>-93.52961</td>\n",
       "      <td>0.00023</td>\n",
       "      <td>True</td>\n",
       "      <td>False</td>\n",
       "      <td>False</td>\n",
       "    </tr>\n",
       "    <tr>\n",
       "      <th>1</th>\n",
       "      <td>10000900</td>\n",
       "      <td>44.87861</td>\n",
       "      <td>-93.60831</td>\n",
       "      <td>0.00161</td>\n",
       "      <td>False</td>\n",
       "      <td>False</td>\n",
       "      <td>True</td>\n",
       "    </tr>\n",
       "    <tr>\n",
       "      <th>2</th>\n",
       "      <td>10000900</td>\n",
       "      <td>44.87861</td>\n",
       "      <td>-93.60831</td>\n",
       "      <td>0.00161</td>\n",
       "      <td>False</td>\n",
       "      <td>False</td>\n",
       "      <td>True</td>\n",
       "    </tr>\n",
       "    <tr>\n",
       "      <th>3</th>\n",
       "      <td>10000900</td>\n",
       "      <td>44.87861</td>\n",
       "      <td>-93.60831</td>\n",
       "      <td>0.00161</td>\n",
       "      <td>False</td>\n",
       "      <td>False</td>\n",
       "      <td>True</td>\n",
       "    </tr>\n",
       "    <tr>\n",
       "      <th>4</th>\n",
       "      <td>10000900</td>\n",
       "      <td>44.87861</td>\n",
       "      <td>-93.60831</td>\n",
       "      <td>0.00161</td>\n",
       "      <td>False</td>\n",
       "      <td>False</td>\n",
       "      <td>True</td>\n",
       "    </tr>\n",
       "  </tbody>\n",
       "</table>\n",
       "</div>"
      ],
      "text/plain": [
       "        DOW       lat      long     prop  train  valid   test\n",
       "0  10000600  44.87739 -93.52961  0.00023   True  False  False\n",
       "1  10000900  44.87861 -93.60831  0.00161  False  False   True\n",
       "2  10000900  44.87861 -93.60831  0.00161  False  False   True\n",
       "3  10000900  44.87861 -93.60831  0.00161  False  False   True\n",
       "4  10000900  44.87861 -93.60831  0.00161  False  False   True"
      ]
     },
     "execution_count": 15,
     "metadata": {},
     "output_type": "execute_result"
    }
   ],
   "source": [
    "lat_lon_ref_df = lat_lon_ref_df.rename(columns = {'dow num':'DOW'})\n",
    "lat_lon_ref_df = lat_lon_ref_df.merge(DOW_proportions, on='DOW')\n",
    "\n",
    "seq_DOWs = pd.DataFrame({'DOW':DOW})\n",
    "\n",
    "mapping_df = seq_DOWs.merge(lat_lon_ref_df, on='DOW', how = 'left')\n",
    "mapping_df.head()"
   ]
  },
  {
   "cell_type": "code",
   "execution_count": 16,
   "id": "81b78eeb",
   "metadata": {},
   "outputs": [
    {
     "data": {
      "image/png": "[encoded data removed]",
      "text/plain": [
       "<Figure size 1080x360 with 3 Axes>"
      ]
     },
     "metadata": {
      "needs_background": "light"
     },
     "output_type": "display_data"
    }
   ],
   "source": [
    "fig, ax = plt.subplots(1, 3, figsize = (15, 5))\n",
    "cmap = cm.get_cmap('viridis', 2)\n",
    "\n",
    "count = 0\n",
    "for col in ['train', 'valid', 'test']:\n",
    "    ax[count].set_title(col + ' lake locations (yellow)\\nN sequences = ' + str(np.sum(mapping_df[col])))\n",
    "    ax[count].scatter(mapping_df['long'], mapping_df['lat'], cmap = cmap,\n",
    "                      c = mapping_df[col], marker = '^')\n",
    "    count += 1"
   ]
  },
  {
   "cell_type": "markdown",
   "id": "6fe358c5",
   "metadata": {},
   "source": [
    "# Actually split the model ready sequences"
   ]
  },
  {
   "cell_type": "code",
   "execution_count": 17,
   "id": "9875f9a8",
   "metadata": {},
   "outputs": [],
   "source": [
    "train_indices = []\n",
    "valid_indices = []\n",
    "test_indices = []\n",
    "\n",
    "count = 0\n",
    "for dow in DOW:\n",
    "    if dow in possible_DOWs:\n",
    "        train_indices.append(count)\n",
    "    elif dow in valid_lakes:\n",
    "        valid_indices.append(count)\n",
    "    elif dow in test_lakes:\n",
    "        test_indices.append(count)\n",
    "    else:\n",
    "        print('WARNING', count)\n",
    "        \n",
    "    count += 1"
   ]
  },
  {
   "cell_type": "code",
   "execution_count": 18,
   "id": "ecc9dfbf",
   "metadata": {},
   "outputs": [],
   "source": [
    "def save_partition_data(indices, fpath):\n",
    "    # subset all the objects\n",
    "    part_x = improved_x[indices]\n",
    "    part_y = y[indices]\n",
    "    part_dates = dates[indices]\n",
    "    part_DOW = DOW[indices]\n",
    "    \n",
    "    part_data = {'x':part_x,\n",
    "                 'y':part_y,\n",
    "                 'dates':part_dates,\n",
    "                 'DOW':part_DOW,\n",
    "                 'vars':non_omitted_variables}\n",
    "    \n",
    "    np.savez_compressed(fpath, **part_data)"
   ]
  },
  {
   "cell_type": "code",
   "execution_count": 19,
   "id": "9e555638",
   "metadata": {},
   "outputs": [],
   "source": [
    "save_partition_data(train_indices, train_data_fpath)\n",
    "save_partition_data(valid_indices, valid_data_fpath)\n",
    "save_partition_data(test_indices, test_data_fpath)"
   ]
  },
  {
   "cell_type": "code",
   "execution_count": null,
   "id": "8e1528bb",
   "metadata": {},
   "outputs": [],
   "source": []
  }
 ],
 "metadata": {
  "kernelspec": {
   "display_name": "Python 3 (ipykernel)",
   "language": "python",
   "name": "python3"
  },
  "language_info": {
   "codemirror_mode": {
    "name": "ipython",
    "version": 3
   },
   "file_extension": ".py",
   "mimetype": "text/x-python",
   "name": "python",
   "nbconvert_exporter": "python",
   "pygments_lexer": "ipython3",
   "version": "3.8.12"
  }
 },
 "nbformat": 4,
 "nbformat_minor": 5
}
