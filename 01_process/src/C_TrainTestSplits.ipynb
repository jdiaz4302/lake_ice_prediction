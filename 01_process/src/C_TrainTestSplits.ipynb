{
 "cells": [
  {
   "cell_type": "code",
   "execution_count": 1,
   "id": "768d304e",
   "metadata": {},
   "outputs": [],
   "source": [
    "import numpy as np\n",
    "import datetime \n",
    "import matplotlib.pyplot as plt\n",
    "import pandas as pd"
   ]
  },
  {
   "cell_type": "markdown",
   "id": "28f712e8",
   "metadata": {},
   "source": [
    "# What happens in this notebook?\n",
    "\n",
    "1. Additional static variables are added - lake area and lake depth\n",
    "2. Certain variables are removed (due to their missingness or their expected availability outside the study area)\n",
    "3. Data is split into train, validation, and test partitions\n",
    "  * The test partition consists of lakes and years that are not represented in the validation and train partitions\n",
    "    * Notably, the test partition consists of the most recent years (2010-2017)\n",
    "  * The validation and train partitions share lakes, but contain mutually exclusive years\n",
    "    * Validation = 2005-2009\n",
    "    * Train = 1980-2004"
   ]
  },
  {
   "cell_type": "markdown",
   "id": "623fade9",
   "metadata": {},
   "source": [
    "# Configuration"
   ]
  },
  {
   "cell_type": "markdown",
   "id": "c3047fd4",
   "metadata": {},
   "source": [
    "### Inputs"
   ]
  },
  {
   "cell_type": "code",
   "execution_count": 2,
   "id": "3cb78160",
   "metadata": {},
   "outputs": [],
   "source": [
    "out_dir = \"../out/\"\n",
    "model_ready_data_fpath = out_dir + 'model_ready_sequences.npz'\n",
    "matching_df_fpath = out_dir + \"matching_sources.csv\"\n",
    "\n",
    "mapping_reference = \"../in/MN_ice/raw_data_from_DNR/lake_ice_id_spreadsheet.xlsx\""
   ]
  },
  {
   "cell_type": "markdown",
   "id": "ea5add2d",
   "metadata": {},
   "source": [
    "### Values"
   ]
  },
  {
   "cell_type": "code",
   "execution_count": 3,
   "id": "0221702a",
   "metadata": {},
   "outputs": [],
   "source": [
    "random_seed = 123\n",
    "\n",
    "date_format = '%Y-%m-%d'\n",
    "\n",
    "vars_to_keep = ['ShortWave', 'LongWave', 'AirTemp', 'RelHum', 'WindSpeed', 'Rain',\n",
    "                'Snow', 'ice', 'temp_0_x', 'MaxDepth', 'LakeArea']\n",
    "\n",
    "# compatible with earlier efforts, leaves enough to train and eval with\n",
    "# a 'soft' test set can be larger, consisting of train/eval lakes during test years\n",
    "# and test lakes during train/eval years\n",
    "test_set_prop = 0.08\n",
    "\n",
    "test_start_year = 2010\n",
    "valid_start_year = 2005\n",
    "\n",
    "# num times to attempt to find a test set that maximizes training data\n",
    "try_n_test_partitions = 10000"
   ]
  },
  {
   "cell_type": "markdown",
   "id": "a357d03b",
   "metadata": {},
   "source": [
    "### Outputs"
   ]
  },
  {
   "cell_type": "code",
   "execution_count": 4,
   "id": "e118f8c0",
   "metadata": {},
   "outputs": [],
   "source": [
    "train_data_fpath = out_dir + 'train_data.npz'\n",
    "valid_data_fpath = out_dir + 'valid_data.npz'\n",
    "soft_test_data_fpath = out_dir + 'soft_test_data.npz'\n",
    "test_data_fpath = out_dir + 'test_data.npz'"
   ]
  },
  {
   "cell_type": "markdown",
   "id": "2b206a8a",
   "metadata": {},
   "source": [
    "# Import"
   ]
  },
  {
   "cell_type": "code",
   "execution_count": 5,
   "id": "831f0b28",
   "metadata": {},
   "outputs": [],
   "source": [
    "model_ready_data = np.load(model_ready_data_fpath, allow_pickle = True)\n",
    "\n",
    "lat_lon_ref_df = pd.read_excel(mapping_reference,\n",
    "                               usecols=['dow num', 'lat', 'long'])"
   ]
  },
  {
   "cell_type": "code",
   "execution_count": 6,
   "id": "1bd8c16b",
   "metadata": {},
   "outputs": [
    {
     "name": "stdout",
     "output_type": "stream",
     "text": [
      "Number of sequences before this work...  5104\n"
     ]
    }
   ],
   "source": [
    "x = model_ready_data['x']\n",
    "y = model_ready_data['y']\n",
    "dates =  model_ready_data['dates']\n",
    "DOW =  model_ready_data['DOW']\n",
    "variables =  model_ready_data['features']\n",
    "\n",
    "print('Number of sequences before this work... ', str(x.shape[0]))"
   ]
  },
  {
   "cell_type": "markdown",
   "id": "84cf2e55",
   "metadata": {},
   "source": [
    "# Add in area and depth from TOHA metadata"
   ]
  },
  {
   "cell_type": "code",
   "execution_count": 7,
   "id": "9b99b21f",
   "metadata": {},
   "outputs": [
    {
     "data": {
      "text/html": [
       "<div>\n",
       "<style scoped>\n",
       "    .dataframe tbody tr th:only-of-type {\n",
       "        vertical-align: middle;\n",
       "    }\n",
       "\n",
       "    .dataframe tbody tr th {\n",
       "        vertical-align: top;\n",
       "    }\n",
       "\n",
       "    .dataframe thead th {\n",
       "        text-align: right;\n",
       "    }\n",
       "</style>\n",
       "<table border=\"1\" class=\"dataframe\">\n",
       "  <thead>\n",
       "    <tr style=\"text-align: right;\">\n",
       "      <th></th>\n",
       "      <th>Unnamed: 0</th>\n",
       "      <th>DOW</th>\n",
       "      <th>group</th>\n",
       "      <th>meteo_file</th>\n",
       "      <th>nhdhr</th>\n",
       "      <th>depth</th>\n",
       "      <th>area</th>\n",
       "    </tr>\n",
       "  </thead>\n",
       "  <tbody>\n",
       "    <tr>\n",
       "      <th>0</th>\n",
       "      <td>0</td>\n",
       "      <td>3065700</td>\n",
       "      <td>06_N46.00-47.00_W94.50-97.00</td>\n",
       "      <td>nldas_meteo_N46.8125-46.8125_W96.1875-96.1875.csv</td>\n",
       "      <td>121545300</td>\n",
       "      <td>21.9456</td>\n",
       "      <td>756697.4</td>\n",
       "    </tr>\n",
       "    <tr>\n",
       "      <th>1</th>\n",
       "      <td>1</td>\n",
       "      <td>6015200</td>\n",
       "      <td>09_N45.00-46.00_W94.50-97.00</td>\n",
       "      <td>nldas_meteo_N45.4375-45.4375_W96.5625-96.5625.csv</td>\n",
       "      <td>122548488</td>\n",
       "      <td>4.8768</td>\n",
       "      <td>48496840.0</td>\n",
       "    </tr>\n",
       "    <tr>\n",
       "      <th>2</th>\n",
       "      <td>2</td>\n",
       "      <td>37004600</td>\n",
       "      <td>09_N45.00-46.00_W94.50-97.00</td>\n",
       "      <td>nldas_meteo_N45.0625-45.0625_W95.9375-95.9375.csv</td>\n",
       "      <td>122551004</td>\n",
       "      <td>3.0480</td>\n",
       "      <td>14960190.0</td>\n",
       "    </tr>\n",
       "    <tr>\n",
       "      <th>3</th>\n",
       "      <td>3</td>\n",
       "      <td>37004601</td>\n",
       "      <td>09_N45.00-46.00_W94.50-97.00</td>\n",
       "      <td>nldas_meteo_N45.0625-45.0625_W95.9375-95.9375.csv</td>\n",
       "      <td>122551004</td>\n",
       "      <td>3.0480</td>\n",
       "      <td>14960190.0</td>\n",
       "    </tr>\n",
       "    <tr>\n",
       "      <th>4</th>\n",
       "      <td>4</td>\n",
       "      <td>3029100</td>\n",
       "      <td>06_N46.00-47.00_W94.50-97.00</td>\n",
       "      <td>nldas_meteo_N46.9375-46.9375_W95.8125-95.8125.csv</td>\n",
       "      <td>121544299</td>\n",
       "      <td>6.7056</td>\n",
       "      <td>936557.7</td>\n",
       "    </tr>\n",
       "    <tr>\n",
       "      <th>...</th>\n",
       "      <td>...</td>\n",
       "      <td>...</td>\n",
       "      <td>...</td>\n",
       "      <td>...</td>\n",
       "      <td>...</td>\n",
       "      <td>...</td>\n",
       "      <td>...</td>\n",
       "    </tr>\n",
       "    <tr>\n",
       "      <th>1058</th>\n",
       "      <td>1058</td>\n",
       "      <td>69027700</td>\n",
       "      <td>04_N45.50-48.00_W92.00-93.00</td>\n",
       "      <td>nldas_meteo_N47.8125-47.8125_W92.0625-92.0625.csv</td>\n",
       "      <td>105954667</td>\n",
       "      <td>7.3152</td>\n",
       "      <td>456057.3</td>\n",
       "    </tr>\n",
       "    <tr>\n",
       "      <th>1059</th>\n",
       "      <td>1059</td>\n",
       "      <td>38062000</td>\n",
       "      <td>01_N48.00-49.50_W89.50-97.25</td>\n",
       "      <td>nldas_meteo_N48.0625-48.0625_W91.4375-91.4375.csv</td>\n",
       "      <td>80997051</td>\n",
       "      <td>11.5824</td>\n",
       "      <td>242621.6</td>\n",
       "    </tr>\n",
       "    <tr>\n",
       "      <th>1060</th>\n",
       "      <td>1060</td>\n",
       "      <td>38014700</td>\n",
       "      <td>01_N48.00-49.50_W89.50-97.25</td>\n",
       "      <td>nldas_meteo_N48.0625-48.0625_W91.0625-91.0625.csv</td>\n",
       "      <td>80997393</td>\n",
       "      <td>23.1648</td>\n",
       "      <td>518915.9</td>\n",
       "    </tr>\n",
       "    <tr>\n",
       "      <th>1061</th>\n",
       "      <td>1061</td>\n",
       "      <td>16081200</td>\n",
       "      <td>01_N48.00-49.50_W89.50-97.25</td>\n",
       "      <td>nldas_meteo_N48.0625-48.0625_W91.0625-91.0625.csv</td>\n",
       "      <td>80994457</td>\n",
       "      <td>11.5824</td>\n",
       "      <td>151548.4</td>\n",
       "    </tr>\n",
       "    <tr>\n",
       "      <th>1062</th>\n",
       "      <td>1062</td>\n",
       "      <td>16072300</td>\n",
       "      <td>01_N48.00-49.50_W89.50-97.25</td>\n",
       "      <td>nldas_meteo_N48.0625-48.0625_W90.9375-90.9375.csv</td>\n",
       "      <td>80996367</td>\n",
       "      <td>21.3360</td>\n",
       "      <td>989056.4</td>\n",
       "    </tr>\n",
       "  </tbody>\n",
       "</table>\n",
       "<p>1063 rows × 7 columns</p>\n",
       "</div>"
      ],
      "text/plain": [
       "      Unnamed: 0       DOW                         group  \\\n",
       "0              0   3065700  06_N46.00-47.00_W94.50-97.00   \n",
       "1              1   6015200  09_N45.00-46.00_W94.50-97.00   \n",
       "2              2  37004600  09_N45.00-46.00_W94.50-97.00   \n",
       "3              3  37004601  09_N45.00-46.00_W94.50-97.00   \n",
       "4              4   3029100  06_N46.00-47.00_W94.50-97.00   \n",
       "...          ...       ...                           ...   \n",
       "1058        1058  69027700  04_N45.50-48.00_W92.00-93.00   \n",
       "1059        1059  38062000  01_N48.00-49.50_W89.50-97.25   \n",
       "1060        1060  38014700  01_N48.00-49.50_W89.50-97.25   \n",
       "1061        1061  16081200  01_N48.00-49.50_W89.50-97.25   \n",
       "1062        1062  16072300  01_N48.00-49.50_W89.50-97.25   \n",
       "\n",
       "                                             meteo_file      nhdhr    depth  \\\n",
       "0     nldas_meteo_N46.8125-46.8125_W96.1875-96.1875.csv  121545300  21.9456   \n",
       "1     nldas_meteo_N45.4375-45.4375_W96.5625-96.5625.csv  122548488   4.8768   \n",
       "2     nldas_meteo_N45.0625-45.0625_W95.9375-95.9375.csv  122551004   3.0480   \n",
       "3     nldas_meteo_N45.0625-45.0625_W95.9375-95.9375.csv  122551004   3.0480   \n",
       "4     nldas_meteo_N46.9375-46.9375_W95.8125-95.8125.csv  121544299   6.7056   \n",
       "...                                                 ...        ...      ...   \n",
       "1058  nldas_meteo_N47.8125-47.8125_W92.0625-92.0625.csv  105954667   7.3152   \n",
       "1059  nldas_meteo_N48.0625-48.0625_W91.4375-91.4375.csv   80997051  11.5824   \n",
       "1060  nldas_meteo_N48.0625-48.0625_W91.0625-91.0625.csv   80997393  23.1648   \n",
       "1061  nldas_meteo_N48.0625-48.0625_W91.0625-91.0625.csv   80994457  11.5824   \n",
       "1062  nldas_meteo_N48.0625-48.0625_W90.9375-90.9375.csv   80996367  21.3360   \n",
       "\n",
       "            area  \n",
       "0       756697.4  \n",
       "1     48496840.0  \n",
       "2     14960190.0  \n",
       "3     14960190.0  \n",
       "4       936557.7  \n",
       "...          ...  \n",
       "1058    456057.3  \n",
       "1059    242621.6  \n",
       "1060    518915.9  \n",
       "1061    151548.4  \n",
       "1062    989056.4  \n",
       "\n",
       "[1063 rows x 7 columns]"
      ]
     },
     "execution_count": 7,
     "metadata": {},
     "output_type": "execute_result"
    }
   ],
   "source": [
    "matching_df = pd.read_csv(matching_df_fpath)\n",
    "matching_df"
   ]
  },
  {
   "cell_type": "code",
   "execution_count": 8,
   "id": "95a1ed10",
   "metadata": {},
   "outputs": [],
   "source": [
    "assert np.sum(np.isnan(matching_df['area'])) == np.sum(np.isnan(matching_df['depth'])) == 0"
   ]
  },
  {
   "cell_type": "code",
   "execution_count": 9,
   "id": "caa0736a",
   "metadata": {},
   "outputs": [],
   "source": [
    "depth_vals = np.ones([x.shape[0], x.shape[1]])\n",
    "area_vals = np.ones([x.shape[0], x.shape[1], 1])\n",
    "\n",
    "count = 0\n",
    "for dow in DOW:\n",
    "    depth_val = matching_df[matching_df['DOW'] == dow]['depth'].item()\n",
    "    area_val = matching_df[matching_df['DOW'] == dow]['area'].item()\n",
    "    \n",
    "    depth_vals[count] = depth_val*depth_vals[count]\n",
    "    area_vals[count] = area_val*area_vals[count]\n",
    "    \n",
    "    count += 1"
   ]
  },
  {
   "cell_type": "code",
   "execution_count": 10,
   "id": "ce206da0",
   "metadata": {},
   "outputs": [
    {
     "data": {
      "image/png": "[encoded data removed]",
      "text/plain": [
       "<Figure size 432x288 with 1 Axes>"
      ]
     },
     "metadata": {
      "needs_background": "light"
     },
     "output_type": "display_data"
    },
    {
     "data": {
      "image/png": "[encoded data removed]",
      "text/plain": [
       "<Figure size 432x288 with 1 Axes>"
      ]
     },
     "metadata": {
      "needs_background": "light"
     },
     "output_type": "display_data"
    }
   ],
   "source": [
    "plt.hist(depth_vals.flatten())\n",
    "plt.pause(0.0001)\n",
    "plt.hist(np.log(depth_vals.flatten()));"
   ]
  },
  {
   "cell_type": "code",
   "execution_count": 11,
   "id": "9a4c7f13",
   "metadata": {},
   "outputs": [
    {
     "data": {
      "image/png": "[encoded data removed]",
      "text/plain": [
       "<Figure size 432x288 with 1 Axes>"
      ]
     },
     "metadata": {
      "needs_background": "light"
     },
     "output_type": "display_data"
    },
    {
     "data": {
      "image/png": "[encoded data removed]",
      "text/plain": [
       "<Figure size 432x288 with 1 Axes>"
      ]
     },
     "metadata": {
      "needs_background": "light"
     },
     "output_type": "display_data"
    }
   ],
   "source": [
    "plt.hist(area_vals.flatten())\n",
    "plt.pause(0.0001)\n",
    "plt.hist(np.log(area_vals.flatten()));"
   ]
  },
  {
   "cell_type": "code",
   "execution_count": 12,
   "id": "72f7d68e",
   "metadata": {},
   "outputs": [],
   "source": [
    "# overwrite the existing max depth (associated with deep water temp estimnates)\n",
    "x[:, :, np.argwhere(variables == 'MaxDepth').item()] = np.log(depth_vals)\n",
    "\n",
    "# add in lake area\n",
    "x = np.concatenate([x, np.log(area_vals)], axis = 2)\n",
    "variables = np.concatenate([variables, ['LakeArea']])"
   ]
  },
  {
   "cell_type": "markdown",
   "id": "c7bd15f4",
   "metadata": {},
   "source": [
    "# Demonstrate existing data missingness"
   ]
  },
  {
   "cell_type": "code",
   "execution_count": 13,
   "id": "b3aa8624",
   "metadata": {},
   "outputs": [
    {
     "name": "stdout",
     "output_type": "stream",
     "text": [
      "0 ShortWave \t\t 0.89\n",
      "1 LongWave \t\t 0.89\n",
      "2 AirTemp \t\t 0.89\n",
      "3 RelHum \t\t 0.89\n",
      "4 WindSpeed \t\t 0.89\n",
      "5 Rain \t\t 0.89\n",
      "6 Snow \t\t 0.89\n",
      "7 kd \t\t 0.85\n",
      "8 ice \t\t 0.85\n",
      "9 rad_0 \t\t 0.85\n",
      "10 temp_0_x \t\t 0.85\n",
      "11 temp_0_y \t\t 0.68\n",
      "12 temp_MaxDepth_x \t\t 0.85\n",
      "13 temp_MaxDepth_y \t\t 0.68\n",
      "14 MaxDepth \t\t 1.0\n",
      "15 LakeArea \t\t 1.0\n"
     ]
    }
   ],
   "source": [
    "# We dont really need the 366th day after July 1 on leap years\n",
    "#   because it will almost surely be ice free.\n",
    "# Additionally, the 366th day is nan for non leap years.\n",
    "temporary_x = x[:, :365, :].copy()\n",
    "\n",
    "# Determine how many sequences have a NaN present for each variable\n",
    "for i in range(len(variables)):\n",
    "    nan_free_seq_count = 0\n",
    "    for j in range(temporary_x.shape[0]):\n",
    "        if np.sum(np.isnan(temporary_x[j, :, i])) == 0:\n",
    "            nan_free_seq_count += 1\n",
    "    print(i, variables[i], '\\t\\t', np.round(nan_free_seq_count / temporary_x.shape[0], 2))"
   ]
  },
  {
   "cell_type": "markdown",
   "id": "86208a74",
   "metadata": {},
   "source": [
    "**Working decision:** dont use PGDL estimates for water temperature because they are missing too often."
   ]
  },
  {
   "cell_type": "markdown",
   "id": "19215e8a",
   "metadata": {},
   "source": [
    "# Omit variables or rows that provide missingness"
   ]
  },
  {
   "cell_type": "markdown",
   "id": "43b95713",
   "metadata": {},
   "source": [
    "### Omit variables"
   ]
  },
  {
   "cell_type": "code",
   "execution_count": 14,
   "id": "4a68548e",
   "metadata": {},
   "outputs": [],
   "source": [
    "vars_to_keep_ids = np.isin(variables, vars_to_keep)"
   ]
  },
  {
   "cell_type": "code",
   "execution_count": 15,
   "id": "a99ca5c6",
   "metadata": {},
   "outputs": [
    {
     "name": "stdout",
     "output_type": "stream",
     "text": [
      "['ShortWave' 'LongWave' 'AirTemp' 'RelHum' 'WindSpeed' 'Rain' 'Snow' 'ice'\n",
      " 'temp_0_x' 'MaxDepth' 'LakeArea']\n"
     ]
    }
   ],
   "source": [
    "non_omitted_variables = variables[vars_to_keep_ids]\n",
    "print(non_omitted_variables)\n",
    "\n",
    "improved_x = temporary_x[:, :, vars_to_keep_ids]\n",
    "\n",
    "del(temporary_x)"
   ]
  },
  {
   "cell_type": "markdown",
   "id": "4a3b7a86",
   "metadata": {},
   "source": [
    "### Omit rows"
   ]
  },
  {
   "cell_type": "code",
   "execution_count": 16,
   "id": "626cce6f",
   "metadata": {},
   "outputs": [
    {
     "data": {
      "text/plain": [
       "0.14596394984326022"
      ]
     },
     "execution_count": 16,
     "metadata": {},
     "output_type": "execute_result"
    }
   ],
   "source": [
    "# Determine where data is missing and what percent are missing\n",
    "nan_free_seq_count = 0\n",
    "nan_free_indices = []\n",
    "for j in range(improved_x.shape[0]):\n",
    "    if np.sum(np.isnan(improved_x[j])) == 0:\n",
    "        nan_free_seq_count += 1\n",
    "        nan_free_indices.append(j)\n",
    "nan_free_indices = np.asarray(nan_free_indices)\n",
    "\n",
    "perc_missing = 1  - (nan_free_seq_count / improved_x.shape[0])\n",
    "perc_missing"
   ]
  },
  {
   "cell_type": "code",
   "execution_count": 17,
   "id": "1ad757c2",
   "metadata": {},
   "outputs": [],
   "source": [
    "improved_x = improved_x[nan_free_indices]\n",
    "# Also get rid of that extra day on leap years here\n",
    "y = y[nan_free_indices, :365]\n",
    "dates = dates[nan_free_indices, :365]\n",
    "DOW = DOW[nan_free_indices].astype(int)\n",
    "variables = non_omitted_variables"
   ]
  },
  {
   "cell_type": "code",
   "execution_count": 18,
   "id": "9151021d",
   "metadata": {},
   "outputs": [
    {
     "name": "stdout",
     "output_type": "stream",
     "text": [
      "Number of sequences remaining...  4359\n"
     ]
    }
   ],
   "source": [
    "print('Number of sequences remaining... ', str(improved_x.shape[0]))"
   ]
  },
  {
   "cell_type": "markdown",
   "id": "af559edf",
   "metadata": {},
   "source": [
    "# Identify partitions by lake identifier (DOW)\n",
    "\n",
    "Train, validation, and test sets will be mutually exclusive sets of different lakes. Data from these lake sets should approximately span the entire temporal range"
   ]
  },
  {
   "cell_type": "code",
   "execution_count": 19,
   "id": "cea24737",
   "metadata": {},
   "outputs": [],
   "source": [
    "df = pd.DataFrame({\"DOW\":DOW.astype(int),\n",
    "                   \"dates\":dates[:, 0].astype(np.datetime64)})\n",
    "df = df.dropna()\n",
    "df['dates'] = df['dates'].astype(np.datetime64)\n",
    "\n",
    "lat_lon_ref_df = lat_lon_ref_df.rename(columns = {'dow num':'DOW'})\n",
    "df = df.merge(lat_lon_ref_df, how = 'left', on = 'DOW')\n",
    "\n",
    "df['year'] = [date.year for date in df['dates']]"
   ]
  },
  {
   "cell_type": "markdown",
   "id": "4394894e",
   "metadata": {},
   "source": [
    "### Figure out what % of the data each lake represents"
   ]
  },
  {
   "cell_type": "code",
   "execution_count": 20,
   "id": "6ac0e33e",
   "metadata": {},
   "outputs": [
    {
     "data": {
      "text/html": [
       "<div>\n",
       "<style scoped>\n",
       "    .dataframe tbody tr th:only-of-type {\n",
       "        vertical-align: middle;\n",
       "    }\n",
       "\n",
       "    .dataframe tbody tr th {\n",
       "        vertical-align: top;\n",
       "    }\n",
       "\n",
       "    .dataframe thead th {\n",
       "        text-align: right;\n",
       "    }\n",
       "</style>\n",
       "<table border=\"1\" class=\"dataframe\">\n",
       "  <thead>\n",
       "    <tr style=\"text-align: right;\">\n",
       "      <th></th>\n",
       "      <th>DOW</th>\n",
       "      <th>prop</th>\n",
       "    </tr>\n",
       "  </thead>\n",
       "  <tbody>\n",
       "    <tr>\n",
       "      <th>0</th>\n",
       "      <td>10005900</td>\n",
       "      <td>0.008718</td>\n",
       "    </tr>\n",
       "    <tr>\n",
       "      <th>1</th>\n",
       "      <td>34007900</td>\n",
       "      <td>0.008718</td>\n",
       "    </tr>\n",
       "    <tr>\n",
       "      <th>2</th>\n",
       "      <td>4013000</td>\n",
       "      <td>0.008718</td>\n",
       "    </tr>\n",
       "    <tr>\n",
       "      <th>3</th>\n",
       "      <td>29025000</td>\n",
       "      <td>0.008488</td>\n",
       "    </tr>\n",
       "    <tr>\n",
       "      <th>4</th>\n",
       "      <td>27013300</td>\n",
       "      <td>0.008488</td>\n",
       "    </tr>\n",
       "    <tr>\n",
       "      <th>...</th>\n",
       "      <td>...</td>\n",
       "      <td>...</td>\n",
       "    </tr>\n",
       "    <tr>\n",
       "      <th>620</th>\n",
       "      <td>40006300</td>\n",
       "      <td>0.000229</td>\n",
       "    </tr>\n",
       "    <tr>\n",
       "      <th>621</th>\n",
       "      <td>4013001</td>\n",
       "      <td>0.000229</td>\n",
       "    </tr>\n",
       "    <tr>\n",
       "      <th>622</th>\n",
       "      <td>4021700</td>\n",
       "      <td>0.000229</td>\n",
       "    </tr>\n",
       "    <tr>\n",
       "      <th>623</th>\n",
       "      <td>47004901</td>\n",
       "      <td>0.000229</td>\n",
       "    </tr>\n",
       "    <tr>\n",
       "      <th>624</th>\n",
       "      <td>9006200</td>\n",
       "      <td>0.000229</td>\n",
       "    </tr>\n",
       "  </tbody>\n",
       "</table>\n",
       "<p>625 rows × 2 columns</p>\n",
       "</div>"
      ],
      "text/plain": [
       "          DOW      prop\n",
       "0    10005900  0.008718\n",
       "1    34007900  0.008718\n",
       "2     4013000  0.008718\n",
       "3    29025000  0.008488\n",
       "4    27013300  0.008488\n",
       "..        ...       ...\n",
       "620  40006300  0.000229\n",
       "621   4013001  0.000229\n",
       "622   4021700  0.000229\n",
       "623  47004901  0.000229\n",
       "624   9006200  0.000229\n",
       "\n",
       "[625 rows x 2 columns]"
      ]
     },
     "execution_count": 20,
     "metadata": {},
     "output_type": "execute_result"
    }
   ],
   "source": [
    "DOW_value_counts = df['DOW'].value_counts()\n",
    "DOW_proportions = DOW_value_counts / len(df)\n",
    "DOW_proportions = pd.DataFrame(DOW_proportions)\n",
    "DOW_proportions = DOW_proportions.reset_index()\n",
    "DOW_proportions = DOW_proportions.rename(columns = {'DOW':'prop',\n",
    "                                                    'index':'DOW'})\n",
    "DOW_proportions"
   ]
  },
  {
   "cell_type": "code",
   "execution_count": 21,
   "id": "b77843ee",
   "metadata": {},
   "outputs": [],
   "source": [
    "df = df.merge(DOW_proportions, how = 'left', on = 'DOW')"
   ]
  },
  {
   "cell_type": "markdown",
   "id": "9fda6044",
   "metadata": {},
   "source": [
    "# Sample different lakes into the test set many times\n",
    "\n",
    "Always achieve a desired test set proportion, then track valid/train size. After lots of iterations, select the sample of test set lakes that maximizes training data.\n",
    "\n",
    "Years are set/fixed based on a preference for evaluating future years. 8 years (2010-2017, inclusive) was seen as a minimum good test set."
   ]
  },
  {
   "cell_type": "code",
   "execution_count": 22,
   "id": "cb7a3dc8",
   "metadata": {},
   "outputs": [],
   "source": [
    "def partition_by_lakes(dataset, possible_lakes, desired_prop, total_N, rng):\n",
    "    \n",
    "    # arguments\n",
    "    #     `dataset` is the dataset we're partitioning.\n",
    "    #        I assume it has a \"DOW\" column\n",
    "    #     `possible_lakes` are the DOWs that we sample.\n",
    "    #        As the sampling continues, we remove values.\n",
    "    #     `desired_prop` is the proportion of the data set\n",
    "    #        that we want this partition to cover.\n",
    "    #     `total_N` is the number of available sequences across\n",
    "    #        all lakes and years\n",
    "    #     `rng` is a np.random.RandomState object (opposed to\n",
    "    #        np.random.seed setting)\n",
    "    # returns\n",
    "    #     `partition_lakes` are the random DOWs representing\n",
    "    #        the desired minimum proportion of the data set\n",
    "    \n",
    "    partition_lakes = []\n",
    "    cumulative_sum = 0 \n",
    "\n",
    "    while cumulative_sum < desired_prop:\n",
    "        # add a random new lake to the partition\n",
    "        rand_DOW = rng.choice(possible_lakes)\n",
    "        partition_lakes.append(rand_DOW)\n",
    "\n",
    "        # subset the data set to those sampled partitions\n",
    "        # and determine what % we are at\n",
    "        cumulative_subset = dataset[dataset.DOW.isin(partition_lakes)]\n",
    "        cumulative_sum = cumulative_subset.shape[0] / total_N\n",
    "\n",
    "        # sample without replacement\n",
    "        possible_lakes.remove(rand_DOW)\n",
    "    \n",
    "    return(partition_lakes)"
   ]
  },
  {
   "cell_type": "code",
   "execution_count": 23,
   "id": "7768f468",
   "metadata": {},
   "outputs": [],
   "source": [
    "dev_period = df[df['year'] < test_start_year]\n",
    "test_period = df[df['year'] >= test_start_year]"
   ]
  },
  {
   "cell_type": "code",
   "execution_count": 24,
   "id": "c2eb3702",
   "metadata": {},
   "outputs": [],
   "source": [
    "RNG = np.random.RandomState(random_seed)"
   ]
  },
  {
   "cell_type": "code",
   "execution_count": 25,
   "id": "15ab6c23",
   "metadata": {},
   "outputs": [
    {
     "name": "stdout",
     "output_type": "stream",
     "text": [
      "Wall time: 8min 59s\n"
     ]
    }
   ],
   "source": [
    "%%time\n",
    "\n",
    "test_lake_candidates = []\n",
    "partition_sizes = np.zeros([try_n_test_partitions, 3])\n",
    "\n",
    "for count in range(try_n_test_partitions):\n",
    "    # sample random lakes that are observed in the test years for possible exclusion\n",
    "    # from train/valid sets\n",
    "    test_lakes = partition_by_lakes(test_period,\n",
    "                                    list(test_period['DOW'].copy()),\n",
    "                                    test_set_prop,\n",
    "                                    df.shape[0],\n",
    "                                    RNG)\n",
    "\n",
    "    # Make the test set consist exclusive lakes (on top of exclusive years)\n",
    "    test_df = test_period[test_period['DOW'].isin(test_lakes)]\n",
    "\n",
    "    # Train/valid will be earlier period omitting test lakes\n",
    "    dev_df = dev_period[dev_period['DOW'].isin(test_lakes) == False]\n",
    "\n",
    "    # Separate train/valid by year\n",
    "    valid_df = dev_df[dev_df['year'] >= valid_start_year]\n",
    "    train_df = dev_df[dev_df['year'] < valid_start_year]\n",
    "\n",
    "    # Keep track of each random attempt...\n",
    "    # ...partition sizes (relative to whole)\n",
    "    partition_sizes[count] = (train_df.shape[0] / df.shape[0],\n",
    "                              valid_df.shape[0] / df.shape[0],\n",
    "                              test_df.shape[0] / df.shape[0])\n",
    "    # ...test set lakes omitted\n",
    "    test_lake_candidates.append(test_lakes)"
   ]
  },
  {
   "cell_type": "code",
   "execution_count": 26,
   "id": "d0b565e8",
   "metadata": {},
   "outputs": [
    {
     "data": {
      "text/plain": [
       "array([0.49965588, 0.16563432, 0.08029365])"
      ]
     },
     "execution_count": 26,
     "metadata": {},
     "output_type": "execute_result"
    }
   ],
   "source": [
    "# what maximizes the training set with the desired test set prop?\n",
    "found_iteration = np.argmax(partition_sizes[:, 0])\n",
    "test_lakes = test_lake_candidates[found_iteration]\n",
    "\n",
    "# 50/16.5/8 split\n",
    "partition_sizes[found_iteration, :]"
   ]
  },
  {
   "cell_type": "code",
   "execution_count": 27,
   "id": "f60bfca2",
   "metadata": {},
   "outputs": [],
   "source": [
    "# test years and test lakes\n",
    "test_df = test_period[test_period['DOW'].isin(test_lakes)]\n",
    "\n",
    "# Train/valid will be earlier period omitting test lakes\n",
    "dev_df = dev_period[dev_period['DOW'].isin(test_lakes) == False]\n",
    "\n",
    "# Separate train/valid by year\n",
    "valid_df = dev_df[dev_df['year'] >= valid_start_year]\n",
    "train_df = dev_df[dev_df['year'] < valid_start_year]"
   ]
  },
  {
   "cell_type": "code",
   "execution_count": 28,
   "id": "8cf6e291",
   "metadata": {},
   "outputs": [
    {
     "data": {
      "image/png": "[encoded data removed]",
      "text/plain": [
       "<Figure size 864x432 with 2 Axes>"
      ]
     },
     "metadata": {
      "needs_background": "light"
     },
     "output_type": "display_data"
    }
   ],
   "source": [
    "# plot the partitions\n",
    "fig, ax = plt.subplots(1, 2, figsize = (12, 6))\n",
    "\n",
    "ax[0].scatter(train_df['long'], train_df['lat'], s = 10, label = 'train')\n",
    "ax[0].scatter(valid_df['long'], valid_df['lat'], s = 10, label = 'valid')\n",
    "ax[0].scatter(test_df['long'], test_df['lat'], s = 10, label = 'test')\n",
    "ax[0].legend();\n",
    "\n",
    "# transparency to demostrate no overlap\n",
    "plt.hist(train_df['year'], bins = np.arange(1980, 2020), label = 'train', alpha = 0.75)\n",
    "plt.hist(valid_df['year'], bins = np.arange(1980, 2020), label = 'eval', alpha = 0.75)\n",
    "plt.hist(test_df['year'], bins = np.arange(1980, 2020), label = 'test', alpha = 0.75)\n",
    "plt.legend();"
   ]
  },
  {
   "cell_type": "code",
   "execution_count": 29,
   "id": "0da07186",
   "metadata": {},
   "outputs": [],
   "source": [
    "def save_partition_data(indices, fpath):\n",
    "    # subset all the objects\n",
    "    part_x = improved_x[indices]\n",
    "    part_y = y[indices]\n",
    "    part_dates = dates[indices]\n",
    "    part_DOW = DOW[indices]\n",
    "    \n",
    "    part_data = {'x':part_x,\n",
    "                 'y':part_y,\n",
    "                 'dates':part_dates,\n",
    "                 'DOW':part_DOW,\n",
    "                 'features':non_omitted_variables}\n",
    "    \n",
    "    np.savez_compressed(fpath, **part_data)"
   ]
  },
  {
   "cell_type": "code",
   "execution_count": 30,
   "id": "3347c32a",
   "metadata": {},
   "outputs": [],
   "source": [
    "soft_test_indices = []\n",
    "for i in df.index:\n",
    "    if (i not in train_df.index) and (i not in valid_df.index) and (i not in test_df.index):\n",
    "        soft_test_indices.append(i)"
   ]
  },
  {
   "cell_type": "code",
   "execution_count": 31,
   "id": "1cfba06a",
   "metadata": {},
   "outputs": [],
   "source": [
    "assert (len(soft_test_indices) + train_df.shape[0] + valid_df.shape[0] + test_df.shape[0]) == df.shape[0]"
   ]
  },
  {
   "cell_type": "code",
   "execution_count": 32,
   "id": "9f9a8cf8",
   "metadata": {},
   "outputs": [],
   "source": [
    "save_partition_data(train_df.index, train_data_fpath)\n",
    "save_partition_data(valid_df.index, valid_data_fpath)\n",
    "save_partition_data(soft_test_indices, soft_test_data_fpath)\n",
    "save_partition_data(test_df.index, test_data_fpath)"
   ]
  },
  {
   "cell_type": "markdown",
   "id": "d3d27ea0",
   "metadata": {},
   "source": [
    "<br><br><br><br>\n",
    "\n",
    "# Lake overlap checking"
   ]
  },
  {
   "cell_type": "code",
   "execution_count": 33,
   "id": "9db79da8",
   "metadata": {},
   "outputs": [
    {
     "data": {
      "text/plain": [
       "0.0"
      ]
     },
     "execution_count": 33,
     "metadata": {},
     "output_type": "execute_result"
    }
   ],
   "source": [
    "# Percent of valid lakes appearing in test set\n",
    "len([dow for dow in valid_df['DOW'].unique() if dow in test_df['DOW'].unique()]) / valid_df['DOW'].unique().shape[0]"
   ]
  },
  {
   "cell_type": "code",
   "execution_count": 34,
   "id": "0dbb82a2",
   "metadata": {},
   "outputs": [
    {
     "data": {
      "text/plain": [
       "0.7119565217391305"
      ]
     },
     "execution_count": 34,
     "metadata": {},
     "output_type": "execute_result"
    }
   ],
   "source": [
    "# Percent of valid lakes appearing in train set\n",
    "#   Not 100% due to timing of available observations\n",
    "len([dow for dow in valid_df['DOW'].unique() if dow in train_df['DOW'].unique()]) / valid_df['DOW'].unique().shape[0]"
   ]
  },
  {
   "cell_type": "code",
   "execution_count": 35,
   "id": "ce3f97de",
   "metadata": {},
   "outputs": [
    {
     "data": {
      "text/plain": [
       "0.0"
      ]
     },
     "execution_count": 35,
     "metadata": {},
     "output_type": "execute_result"
    }
   ],
   "source": [
    "# Percent of train lakes appearing in test set\n",
    "len([dow for dow in test_df['DOW'].unique() if dow in train_df['DOW'].unique()]) / test_df['DOW'].unique().shape[0]"
   ]
  }
 ],
 "metadata": {
  "jupytext": {
   "formats": "ipynb,md"
  },
  "kernelspec": {
   "display_name": "Python 3 (ipykernel)",
   "language": "python",
   "name": "python3"
  },
  "language_info": {
   "codemirror_mode": {
    "name": "ipython",
    "version": 3
   },
   "file_extension": ".py",
   "mimetype": "text/x-python",
   "name": "python",
   "nbconvert_exporter": "python",
   "pygments_lexer": "ipython3",
   "version": "3.8.12"
  }
 },
 "nbformat": 4,
 "nbformat_minor": 5
}
